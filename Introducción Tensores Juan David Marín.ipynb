{
 "cells": [
  {
   "cell_type": "markdown",
   "id": "896f7468",
   "metadata": {},
   "source": [
    " # <span style=\"color:red\"><center>__Introducción Tensores Juan David Marín__</center></span>"
   ]
  },
  {
   "cell_type": "code",
   "execution_count": 1,
   "id": "48b7d5df",
   "metadata": {},
   "outputs": [],
   "source": [
    "import tensorflow as tf\n",
    "import numpy as np"
   ]
  },
  {
   "cell_type": "markdown",
   "id": "c2867c7d",
   "metadata": {},
   "source": [
    "## Esenciales"
   ]
  },
  {
   "cell_type": "code",
   "execution_count": 6,
   "id": "001db189",
   "metadata": {},
   "outputs": [
    {
     "name": "stdout",
     "output_type": "stream",
     "text": [
      "tf.Tensor(4, shape=(), dtype=int32)\n"
     ]
    }
   ],
   "source": [
    "t0 = tf.constant(4)\n",
    "print(t0)"
   ]
  },
  {
   "cell_type": "code",
   "execution_count": 8,
   "id": "d5b450d9",
   "metadata": {},
   "outputs": [
    {
     "name": "stdout",
     "output_type": "stream",
     "text": [
      "tf.Tensor([1 5], shape=(2,), dtype=int32)\n"
     ]
    }
   ],
   "source": [
    "t = tf.constant([1,5])\n",
    "print(t)"
   ]
  },
  {
   "cell_type": "code",
   "execution_count": 7,
   "id": "9147d387",
   "metadata": {},
   "outputs": [
    {
     "name": "stdout",
     "output_type": "stream",
     "text": [
      "tf.Tensor([1 3 4], shape=(3,), dtype=int32)\n"
     ]
    }
   ],
   "source": [
    "t1 = tf.constant([1,3,4])\n",
    "print(t1)"
   ]
  },
  {
   "cell_type": "code",
   "execution_count": 10,
   "id": "5a1ec384",
   "metadata": {},
   "outputs": [
    {
     "name": "stdout",
     "output_type": "stream",
     "text": [
      "tf.Tensor(\n",
      "[[1 2 3]\n",
      " [4 5 6]], shape=(2, 3), dtype=int32)\n"
     ]
    }
   ],
   "source": [
    "t23 = tf.constant([[1,2,3],[4,5,6]])\n",
    "print(t23)"
   ]
  },
  {
   "cell_type": "code",
   "execution_count": 13,
   "id": "2f10b4ce",
   "metadata": {},
   "outputs": [
    {
     "name": "stdout",
     "output_type": "stream",
     "text": [
      "tf.Tensor(\n",
      "[[[ 1  2  3  4  5]\n",
      "  [ 6  7  8  9 10]\n",
      "  [11 12 13 14 15]]\n",
      "\n",
      " [[16 17 18 19 20]\n",
      "  [21 22 23 24 25]\n",
      "  [26 27 28 29 30]]], shape=(2, 3, 5), dtype=int32)\n"
     ]
    }
   ],
   "source": [
    "t235 = tf.constant([[[1,2,3,4,5],[6,7,8,9,10],[11,12,13,14,15]],\n",
    "                  [[16,17,18,19,20],[21,22,23,24,25],[26,27,28,29,30]]])\n",
    "print(t235)"
   ]
  },
  {
   "cell_type": "code",
   "execution_count": 15,
   "id": "b7993f5b",
   "metadata": {},
   "outputs": [
    {
     "data": {
      "text/plain": [
       "array([[[ 1,  2,  3,  4,  5],\n",
       "        [ 6,  7,  8,  9, 10],\n",
       "        [11, 12, 13, 14, 15]],\n",
       "\n",
       "       [[16, 17, 18, 19, 20],\n",
       "        [21, 22, 23, 24, 25],\n",
       "        [26, 27, 28, 29, 30]]])"
      ]
     },
     "execution_count": 15,
     "metadata": {},
     "output_type": "execute_result"
    }
   ],
   "source": [
    "t235.numpy()"
   ]
  },
  {
   "cell_type": "code",
   "execution_count": 16,
   "id": "8f9dad38",
   "metadata": {},
   "outputs": [
    {
     "data": {
      "text/plain": [
       "(2, 3, 5)"
      ]
     },
     "execution_count": 16,
     "metadata": {},
     "output_type": "execute_result"
    }
   ],
   "source": [
    "t235.numpy().shape"
   ]
  },
  {
   "cell_type": "code",
   "execution_count": 17,
   "id": "12f8900d",
   "metadata": {},
   "outputs": [
    {
     "data": {
      "text/plain": [
       "TensorShape([2, 3, 5])"
      ]
     },
     "execution_count": 17,
     "metadata": {},
     "output_type": "execute_result"
    }
   ],
   "source": [
    "t235.shape"
   ]
  },
  {
   "cell_type": "markdown",
   "id": "8fb8e443",
   "metadata": {},
   "source": [
    "## <span style=\"color:green\">_Algebra mínima de tensores_</span>"
   ]
  },
  {
   "cell_type": "code",
   "execution_count": 23,
   "id": "c93ec52a",
   "metadata": {},
   "outputs": [
    {
     "name": "stdout",
     "output_type": "stream",
     "text": [
      "tf.Tensor(\n",
      "[[1 2]\n",
      " [3 4]], shape=(2, 2), dtype=int32) \n",
      "\n",
      "tf.Tensor(\n",
      "[[5 6]\n",
      " [7 8]], shape=(2, 2), dtype=int32) \n",
      "\n",
      "tf.Tensor(\n",
      "[[ 6  8]\n",
      " [10 12]], shape=(2, 2), dtype=int32) \n",
      "\n",
      "tf.Tensor(\n",
      "[[ 5 12]\n",
      " [21 32]], shape=(2, 2), dtype=int32) \n",
      "\n",
      "tf.Tensor(\n",
      "[[19 22]\n",
      " [43 50]], shape=(2, 2), dtype=int32) \n",
      "\n"
     ]
    }
   ],
   "source": [
    "A = tf.constant([[1,2],[3,4]])\n",
    "B = tf.constant([[5,6],[7,8]])\n",
    "print(A, '\\n')\n",
    "print(B, '\\n')\n",
    "print(tf.add(A,B), '\\n') # Suma las listas\n",
    "print(tf.multiply(A,B), '\\n')\n",
    "print(tf.matmul(A,B),'\\n')"
   ]
  },
  {
   "cell_type": "code",
   "execution_count": 27,
   "id": "f18e21c2",
   "metadata": {},
   "outputs": [
    {
     "name": "stdout",
     "output_type": "stream",
     "text": [
      "tf.Tensor(\n",
      "[[ 6  8]\n",
      " [10 12]], shape=(2, 2), dtype=int32) \n",
      "\n",
      "tf.Tensor(\n",
      "[[ 5 12]\n",
      " [21 32]], shape=(2, 2), dtype=int32) \n",
      "\n",
      "tf.Tensor(\n",
      "[[19 22]\n",
      " [43 50]], shape=(2, 2), dtype=int32) \n",
      "\n"
     ]
    }
   ],
   "source": [
    "print(A+B,'\\n')\n",
    "print(A*B,'\\n')\n",
    "print(A@B, '\\n')"
   ]
  },
  {
   "cell_type": "markdown",
   "id": "056a3853",
   "metadata": {},
   "source": [
    "## <span style=\"color:green\">_Funciones de Reducción_</span>"
   ]
  },
  {
   "cell_type": "code",
   "execution_count": 42,
   "id": "6d14592b",
   "metadata": {},
   "outputs": [
    {
     "name": "stdout",
     "output_type": "stream",
     "text": [
      "tf.Tensor(\n",
      "[[ 4.  5.]\n",
      " [10.  1.]], shape=(2, 2), dtype=float32) \n",
      "\n",
      "tf.Tensor(10.0, shape=(), dtype=float32) \n",
      "\n",
      "tf.Tensor(1.0, shape=(), dtype=float32) \n",
      "\n",
      "tf.Tensor(5.0, shape=(), dtype=float32) \n",
      "\n",
      "tf.Tensor([1 0], shape=(2,), dtype=int64) \n",
      "\n",
      "tf.Tensor(\n",
      "[[2.6894143e-01 7.3105860e-01]\n",
      " [9.9987662e-01 1.2339458e-04]], shape=(2, 2), dtype=float32) \n",
      "\n",
      "tf.Tensor([1. 1.], shape=(2,), dtype=float32)\n"
     ]
    }
   ],
   "source": [
    "c = tf.constant([[4.0,5.0],[10.0,1.0]])\n",
    "\n",
    "print(c,'\\n')\n",
    "print(tf.reduce_max(c),'\\n')\n",
    "print(tf.reduce_min(c),'\\n')\n",
    "print(tf.reduce_mean(c), '\\n')\n",
    "print(tf.argmax(c),'\\n') # ubica el elemento maximo \n",
    "print(tf.nn.softmax(c),'\\n')\n",
    "print(tf.reduce_sum(tf.nn.softmax(c), axis = 1))"
   ]
  },
  {
   "cell_type": "markdown",
   "id": "b8349a77",
   "metadata": {},
   "source": [
    "\n",
    "## <span style=\"color:green\">_Tipo, forma y dimensión_</span>"
   ]
  },
  {
   "cell_type": "code",
   "execution_count": 52,
   "id": "d91d3ad1",
   "metadata": {},
   "outputs": [
    {
     "name": "stdout",
     "output_type": "stream",
     "text": [
      "tf.Tensor(\n",
      "[[[ 0  1  2  3  4]\n",
      "  [ 5  6  7  8  9]]\n",
      "\n",
      " [[10 11 12 13 14]\n",
      "  [15 16 17 18 19]]\n",
      "\n",
      " [[20 21 22 23 24]\n",
      "  [25 26 27 28 29]]], shape=(3, 2, 5), dtype=int32) \n",
      "\n",
      "<dtype: 'int32'> \n",
      "\n",
      "(3, 2, 5) \n",
      "\n",
      "3 \n",
      "\n",
      "5 \n",
      "\n",
      "tf.Tensor(30, shape=(), dtype=int32)\n"
     ]
    }
   ],
   "source": [
    "t = tf.constant([\n",
    "    [[0,1,2,3,4],\n",
    "     [5,6,7,8,9]],\n",
    "    [[10,11,12,13,14],\n",
    "    [15,16,17,18,19]],\n",
    "    [[20,21,22,23,24],\n",
    "    [25,26,27,28,29]]\n",
    "])\n",
    "\n",
    "print(t,'\\n')\n",
    "print(t.dtype,'\\n')\n",
    "print(t.shape,'\\n')\n",
    "print(t.ndim,'\\n')\n",
    "print(t.shape[2],'\\n')\n",
    "print(tf.size(t.numpy()))\n"
   ]
  },
  {
   "cell_type": "markdown",
   "id": "65d591ad",
   "metadata": {},
   "source": [
    "\n",
    "## <span style=\"color:green\">_Indexación_</span>\n",
    "\n",
    "### <span style=\"color:blue\">_Indexación en un solo eje_</span>\n",
    "\n",
    " * Los índices empiezan en cero.\n",
    " * Los índices negativos cuentan hacia atrás desde el final.\n",
    " * Los dos puntos (:) se utilizan para los cortes. inicio:final:salto\n",
    "\n"
   ]
  },
  {
   "cell_type": "code",
   "execution_count": 59,
   "id": "5968aeb2",
   "metadata": {},
   "outputs": [
    {
     "name": "stdout",
     "output_type": "stream",
     "text": [
      "Primer número: tf.Tensor(0, shape=(), dtype=int32)\n",
      "Segundo número: tf.Tensor(1, shape=(), dtype=int32)\n",
      "Sexto número: tf.Tensor(8, shape=(), dtype=int32)\n",
      "Ultimo: 34\n"
     ]
    }
   ],
   "source": [
    "t1 = tf.constant([0,1,1,2,3,5,8,13,21,34])\n",
    "print('Primer número:', t1[0])\n",
    "print('Segundo número:', t1[1])\n",
    "print('Sexto número:', t1[6])\n",
    "print('Ultimo:', t1[-1].numpy())"
   ]
  },
  {
   "cell_type": "markdown",
   "id": "e4d14291",
   "metadata": {},
   "source": [
    "### <span style=\"color:blue\">_Extracción de parte de un tensor: slices_</span>\n"
   ]
  },
  {
   "cell_type": "code",
   "execution_count": 71,
   "id": "6c75578a",
   "metadata": {},
   "outputs": [
    {
     "name": "stdout",
     "output_type": "stream",
     "text": [
      "Todo [ 0  1  1  2  3  5  8 13 21 34]\n",
      "Antes de la posición 4 [0 1 1 2]\n",
      "Desde la posición 4 hasta el final [ 3  5  8 13 21 34]\n",
      "Desde la posición 2 hasta la 7: [1 1 2 3 5 8]\n",
      "Todos los elementos en posición par [ 0  1  3  8 21]\n",
      "Invertir todo el orden [34 21 13  8  5  3  2  1  1  0]\n"
     ]
    }
   ],
   "source": [
    "print('Todo', t1[:].numpy())\n",
    "print('Antes de la posición 4', t1[:4].numpy())\n",
    "print('Desde la posición 4 hasta el final', t1[4:].numpy())\n",
    "print('Desde la posición 2 hasta la 7:', t1[1:7].numpy())\n",
    "print('Todos los elementos en posición par', t1[::2].numpy())\n",
    "print('Invertir todo el orden', t1[::-1].numpy())"
   ]
  },
  {
   "cell_type": "markdown",
   "id": "8c1515d1",
   "metadata": {},
   "source": [
    "### <span style=\"color:blue\">_Indexación multi-eje_</span>\n"
   ]
  },
  {
   "cell_type": "code",
   "execution_count": 73,
   "id": "3f57e3a1",
   "metadata": {},
   "outputs": [
    {
     "name": "stdout",
     "output_type": "stream",
     "text": [
      "tf.Tensor(\n",
      "[[1 2 3]\n",
      " [4 5 6]], shape=(2, 3), dtype=int32) \n",
      "\n",
      "[[1 2 3]\n",
      " [4 5 6]]\n"
     ]
    }
   ],
   "source": [
    "t23 = tf.constant([[1,2,3],[4,5,6]])\n",
    "print(t23,'\\n')\n",
    "print(t23.numpy())"
   ]
  },
  {
   "cell_type": "markdown",
   "id": "50fa4499",
   "metadata": {},
   "source": [
    "print('Posición 1,1:', t23[1,1].numpy())\n",
    "print('Segunda fila:', t23[1,:].numpy())\n",
    "print('Segunda columna:', t23[:,1].numpy())\n",
    "print('Última columna:', t23[:,-1].numpy())\n",
    "print('Primer elemento de la última columna:',t23[0,-1].numpy())\n",
    "print('Saltarse la primera columna: \\n',t23[:,1:].numpy())"
   ]
  },
  {
   "cell_type": "code",
   "execution_count": 113,
   "id": "b0b11bcc",
   "metadata": {},
   "outputs": [
    {
     "name": "stdout",
     "output_type": "stream",
     "text": [
      "[[[ 0  1  2  3  4]\n",
      "  [ 5  6  7  8  9]]\n",
      "\n",
      " [[10 11 12 13 14]\n",
      "  [15 16 17 18 19]]\n",
      "\n",
      " [[20 21 22 23 24]\n",
      "  [25 26 27 28 29]]]\n"
     ]
    }
   ],
   "source": [
    "t = tf.constant([\n",
    "  [[0, 1, 2, 3, 4],\n",
    "   [5, 6, 7, 8, 9]],\n",
    "  [[10, 11, 12, 13, 14],\n",
    "   [15, 16, 17, 18, 19]],\n",
    "  [[20, 21, 22, 23, 24],\n",
    "   [25, 26, 27, 28, 29]],]) \n",
    "print(t.numpy())"
   ]
  },
  {
   "cell_type": "code",
   "execution_count": 126,
   "id": "ce4cf97b",
   "metadata": {},
   "outputs": [
    {
     "name": "stdout",
     "output_type": "stream",
     "text": [
      "Extrae la primera capa\n",
      " [[0 1 2 3 4]\n",
      " [5 6 7 8 9]]\n",
      "Extrae la primera capa\n",
      " [[0 1 2 3 4]\n",
      " [5 6 7 8 9]]\n",
      "Extrae la segunda capa\n",
      " [[0 1 2 3 4]\n",
      " [5 6 7 8 9]]\n"
     ]
    }
   ],
   "source": [
    "print('Extrae la primera capa\\n', t[0,:,:].numpy())\n",
    "print('Extrae la primera capa\\n', t[0].numpy())\n",
    "print('Extrae la segunda capa\\n', t[0].numpy())"
   ]
  },
  {
   "cell_type": "markdown",
   "id": "4012b75e",
   "metadata": {},
   "source": [
    "### <span style=\"color:blue\">_Manipular formas_</span>\n"
   ]
  },
  {
   "cell_type": "code",
   "execution_count": 130,
   "id": "f10732ac",
   "metadata": {},
   "outputs": [
    {
     "name": "stdout",
     "output_type": "stream",
     "text": [
      "[[1]\n",
      " [2]\n",
      " [3]] \n",
      "\n",
      "(3, 1) \n",
      "\n",
      "[3, 1]\n"
     ]
    }
   ],
   "source": [
    "x = tf.constant([[1],[2],[3]])\n",
    "print(x.numpy(),'\\n')\n",
    "print(x.shape,'\\n')\n",
    "print(x.shape.as_list())"
   ]
  },
  {
   "cell_type": "code",
   "execution_count": 136,
   "id": "28741849",
   "metadata": {},
   "outputs": [
    {
     "name": "stdout",
     "output_type": "stream",
     "text": [
      "[[1 2 3]]\n",
      "[[1]\n",
      " [2]\n",
      " [3]]\n"
     ]
    }
   ],
   "source": [
    "reshape = tf.reshape(x,[1,3])\n",
    "print(reshape.numpy())\n",
    "print(x.numpy())"
   ]
  },
  {
   "cell_type": "code",
   "execution_count": 158,
   "id": "a8a4cc85",
   "metadata": {},
   "outputs": [
    {
     "name": "stdout",
     "output_type": "stream",
     "text": [
      "[[[ 0  1  2  3  4]\n",
      "  [ 5  6  7  8  9]]\n",
      "\n",
      " [[10 11 12 13 14]\n",
      "  [15 16 17 18 19]]\n",
      "\n",
      " [[20 21 22 23 24]\n",
      "  [25 26 27 28 29]]] \n",
      "\n",
      "[[ 0  1  2  3  4  5  6  7  8  9 10 11 12 13 14 15 16 17 18 19 20 21 22 23\n",
      "  24 25 26 27 28 29]]\n"
     ]
    }
   ],
   "source": [
    "print(t.numpy(),'\\n')\n",
    "print(tf.reshape(t,[1,30]).numpy())"
   ]
  },
  {
   "cell_type": "markdown",
   "id": "7ff33894",
   "metadata": {},
   "source": [
    "# Aplana un tensor\n",
    "\n",
    " * <span style=\"color:blue\">Esta operación permite ver el orden como están organizados los datos en memoria</span>\n",
    " \n"
   ]
  },
  {
   "cell_type": "code",
   "execution_count": 165,
   "id": "2dba7d90",
   "metadata": {},
   "outputs": [
    {
     "name": "stdout",
     "output_type": "stream",
     "text": [
      "tensor actual: \n",
      " [[[ 0  1  2  3  4]\n",
      "  [ 5  6  7  8  9]]\n",
      "\n",
      " [[10 11 12 13 14]\n",
      "  [15 16 17 18 19]]\n",
      "\n",
      " [[20 21 22 23 24]\n",
      "  [25 26 27 28 29]]]\n",
      "\n",
      "Tensor aplanado: [ 0  1  2  3  4  5  6  7  8  9 10 11 12 13 14 15 16 17 18 19 20 21 22 23\n",
      " 24 25 26 27 28 29]\n"
     ]
    }
   ],
   "source": [
    "print('tensor actual: \\n', t.numpy())\n",
    "\n",
    "flat = tf.reshape(t,[-1])\n",
    "print('\\nTensor aplanado:', flat.numpy())"
   ]
  },
  {
   "cell_type": "code",
   "execution_count": 166,
   "id": "e3534f51",
   "metadata": {},
   "outputs": [
    {
     "name": "stdout",
     "output_type": "stream",
     "text": [
      "[3, 2, 5]\n"
     ]
    }
   ],
   "source": [
    "print(t.shape.as_list())"
   ]
  },
  {
   "cell_type": "code",
   "execution_count": 175,
   "id": "f14e5bc3",
   "metadata": {},
   "outputs": [
    {
     "name": "stdout",
     "output_type": "stream",
     "text": [
      "tf.Tensor(\n",
      "[[ 0  1  2]\n",
      " [ 3  4  5]\n",
      " [ 6  7  8]\n",
      " [ 9 10 11]\n",
      " [12 13 14]\n",
      " [15 16 17]\n",
      " [18 19 20]\n",
      " [21 22 23]\n",
      " [24 25 26]\n",
      " [27 28 29]], shape=(10, 3), dtype=int32)\n",
      "\n",
      " tf.Tensor(\n",
      "[[ 0  1  2  3  4]\n",
      " [ 5  6  7  8  9]\n",
      " [10 11 12 13 14]\n",
      " [15 16 17 18 19]\n",
      " [20 21 22 23 24]\n",
      " [25 26 27 28 29]], shape=(6, 5), dtype=int32)\n"
     ]
    }
   ],
   "source": [
    "print(tf.reshape(t,[5*2,3]))\n",
    "print('\\n',tf.reshape(t,[2*3,5]))\n"
   ]
  },
  {
   "cell_type": "code",
   "execution_count": 176,
   "id": "4ab1861b",
   "metadata": {},
   "outputs": [
    {
     "name": "stdout",
     "output_type": "stream",
     "text": [
      "tf.Tensor(\n",
      "[[ 0  1  2  3  4  5  6  7  8  9 10 11 12 13 14]\n",
      " [15 16 17 18 19 20 21 22 23 24 25 26 27 28 29]], shape=(2, 15), dtype=int32)\n"
     ]
    }
   ],
   "source": [
    "print(tf.reshape(t, [2,3*5]))"
   ]
  },
  {
   "cell_type": "code",
   "execution_count": 177,
   "id": "93e9e06a",
   "metadata": {},
   "outputs": [
    {
     "name": "stdout",
     "output_type": "stream",
     "text": [
      "tf.Tensor(\n",
      "[[ 0  1  2  3  4]\n",
      " [ 5  6  7  8  9]\n",
      " [10 11 12 13 14]\n",
      " [15 16 17 18 19]\n",
      " [20 21 22 23 24]\n",
      " [25 26 27 28 29]], shape=(6, 5), dtype=int32)\n"
     ]
    }
   ],
   "source": [
    "print(tf.reshape(t, [-1,5]))"
   ]
  },
  {
   "cell_type": "code",
   "execution_count": 180,
   "id": "98240f20",
   "metadata": {},
   "outputs": [
    {
     "name": "stdout",
     "output_type": "stream",
     "text": [
      "tf.Tensor(\n",
      "[[ 0  1  2  3  4  5  6  7  8  9]\n",
      " [10 11 12 13 14 15 16 17 18 19]\n",
      " [20 21 22 23 24 25 26 27 28 29]], shape=(3, 10), dtype=int32)\n"
     ]
    }
   ],
   "source": [
    "print(tf.reshape(t, [3,-1]))"
   ]
  },
  {
   "cell_type": "code",
   "execution_count": 181,
   "id": "a2344957",
   "metadata": {},
   "outputs": [
    {
     "name": "stdout",
     "output_type": "stream",
     "text": [
      "tf.Tensor(\n",
      "[[[ 0  1  2  3  4]\n",
      "  [ 5  6  7  8  9]]\n",
      "\n",
      " [[10 11 12 13 14]\n",
      "  [15 16 17 18 19]]\n",
      "\n",
      " [[20 21 22 23 24]\n",
      "  [25 26 27 28 29]]], shape=(3, 2, 5), dtype=int32)\n"
     ]
    }
   ],
   "source": [
    "print(tf.reshape(t, [3,2,5]))"
   ]
  },
  {
   "cell_type": "markdown",
   "id": "ae3125b2",
   "metadata": {},
   "source": [
    "## Definición Conversión de tipos. Cast"
   ]
  },
  {
   "cell_type": "code",
   "execution_count": 193,
   "id": "d2a6cd86",
   "metadata": {},
   "outputs": [
    {
     "name": "stdout",
     "output_type": "stream",
     "text": [
      "tf.Tensor([2. 4. 6.], shape=(3,), dtype=float64)\n",
      "tf.Tensor([2. 4. 6.], shape=(3,), dtype=float16)\n",
      "tf.Tensor([2 4 6], shape=(3,), dtype=uint8)\n"
     ]
    }
   ],
   "source": [
    "f64_tensor = tf.constant([2.0,4.0,6.0], dtype = tf.float64)\n",
    "print(f64_tensor)\n",
    "\n",
    "f16_tensor = tf.cast(f64_tensor, dtype = tf.float16)\n",
    "print(f16_tensor)\n",
    "\n",
    "u8_tensor = tf.cast(f16_tensor, dtype = tf.uint8)\n",
    "print(u8_tensor)"
   ]
  },
  {
   "cell_type": "code",
   "execution_count": null,
   "id": "63b6697f",
   "metadata": {},
   "outputs": [],
   "source": [
    "\n",
    "f64_tensor = tf.constant([2.0, 4.0, 6.0], dtype = tf.float64)\n",
    "print(f64_tensor)\n",
    "\n",
    "f16_tensor = tf.cast(f64_tensor,dtype= tf.float16)\n",
    "print(f16_tensor)\n",
    "\n",
    "u8_tensor = tf.cast(f16_tensor, dtype = tf.uint8)\n",
    "print(u8_tensor)"
   ]
  },
  {
   "cell_type": "markdown",
   "id": "960febf3",
   "metadata": {},
   "source": [
    "# Radiofusión (broadcasting)"
   ]
  },
  {
   "cell_type": "code",
   "execution_count": 198,
   "id": "3fa3420b",
   "metadata": {},
   "outputs": [
    {
     "name": "stdout",
     "output_type": "stream",
     "text": [
      "tf.Tensor([2 4 6], shape=(3,), dtype=int32)\n",
      "tf.Tensor([2 4 6], shape=(3,), dtype=int32)\n",
      "tf.Tensor([2 4 6], shape=(3,), dtype=int32)\n"
     ]
    }
   ],
   "source": [
    "x = tf.constant([1,2,3])\n",
    "y = tf.constant(2)\n",
    "z = tf.constant([2,2,2])\n",
    "\n",
    "# el mismo resultado\n",
    "\n",
    "print(tf.multiply(x,2))\n",
    "print(x*y)\n",
    "print(x*z)"
   ]
  },
  {
   "cell_type": "code",
   "execution_count": 207,
   "id": "74783b61",
   "metadata": {},
   "outputs": [
    {
     "name": "stdout",
     "output_type": "stream",
     "text": [
      "[[1]\n",
      " [2]\n",
      " [3]] \n",
      "\n",
      "[1 2 3 4] \n",
      "\n",
      "tf.Tensor(\n",
      "[[1]\n",
      " [2]\n",
      " [3]], shape=(3, 1), dtype=int32) \n",
      "\n",
      "tf.Tensor([1 2 3 4], shape=(4,), dtype=int32) \n",
      "\n"
     ]
    }
   ],
   "source": [
    "x = tf.reshape(x,[3,1])\n",
    "y = tf.range(1,5)\n",
    "print(x.numpy(), \"\\n\")\n",
    "print(y.numpy(), \"\\n\")\n",
    "print(x, \"\\n\")\n",
    "print(y, \"\\n\")"
   ]
  },
  {
   "cell_type": "code",
   "execution_count": 208,
   "id": "9705d217",
   "metadata": {},
   "outputs": [
    {
     "name": "stdout",
     "output_type": "stream",
     "text": [
      "tf.Tensor(\n",
      "[[ 1  2  3  4]\n",
      " [ 2  4  6  8]\n",
      " [ 3  6  9 12]], shape=(3, 4), dtype=int32)\n"
     ]
    }
   ],
   "source": [
    "print(tf.multiply(x,y))"
   ]
  },
  {
   "cell_type": "markdown",
   "id": "3f6048a4",
   "metadata": {},
   "source": [
    "# tf.broadcast_to"
   ]
  },
  {
   "cell_type": "code",
   "execution_count": 213,
   "id": "f0d30cd6",
   "metadata": {},
   "outputs": [
    {
     "name": "stdout",
     "output_type": "stream",
     "text": [
      "tf.Tensor(\n",
      "[[1 2 3]\n",
      " [1 2 3]\n",
      " [1 2 3]], shape=(3, 3), dtype=int32)\n"
     ]
    }
   ],
   "source": [
    "print(tf.broadcast_to([1,2,3], [3,3]))"
   ]
  },
  {
   "cell_type": "markdown",
   "id": "e0bb7c92",
   "metadata": {},
   "source": [
    "# tf.convert_to_tensor\n",
    "\n",
    "# Tensores irregulares (ragged tensors) "
   ]
  },
  {
   "cell_type": "code",
   "execution_count": 215,
   "id": "636c4395",
   "metadata": {},
   "outputs": [],
   "source": [
    "regged_list = [\n",
    "    [0,1,2,3],\n",
    "    [4,5],\n",
    "    [6,7,8],\n",
    "    [9]\n",
    "]"
   ]
  },
  {
   "cell_type": "code",
   "execution_count": 219,
   "id": "0910e677",
   "metadata": {},
   "outputs": [
    {
     "name": "stdout",
     "output_type": "stream",
     "text": [
      "NameError: name 'ragged_list' is not defined\n"
     ]
    }
   ],
   "source": [
    "try:\n",
    "    tensor = tf.constant(ragged_list)\n",
    "except Exception as e:\n",
    "    print(f'{type(e).__name__}: {e}')"
   ]
  },
  {
   "cell_type": "code",
   "execution_count": 250,
   "id": "7a0fee09",
   "metadata": {},
   "outputs": [
    {
     "name": "stdout",
     "output_type": "stream",
     "text": [
      "(4, None)\n",
      "[array([0, 1, 2, 3]) array([4, 5]) array([6, 7, 8]) array([9])]\n"
     ]
    }
   ],
   "source": [
    "ragged_t = tf.ragged.constant(regged_list)\n",
    "print(ragged_t.shape)\n",
    "print(ragged_t.numpy())"
   ]
  },
  {
   "cell_type": "markdown",
   "id": "378d805d",
   "metadata": {},
   "source": [
    "# Tensores de strings"
   ]
  },
  {
   "cell_type": "code",
   "execution_count": 251,
   "id": "7bb4b743",
   "metadata": {},
   "outputs": [
    {
     "name": "stdout",
     "output_type": "stream",
     "text": [
      "tf.Tensor(b'Este tensor string', shape=(), dtype=string)\n"
     ]
    }
   ],
   "source": [
    "st = tf.constant(\"Este tensor string\")\n",
    "print(st)"
   ]
  },
  {
   "cell_type": "code",
   "execution_count": 252,
   "id": "827af0f4",
   "metadata": {},
   "outputs": [
    {
     "name": "stdout",
     "output_type": "stream",
     "text": [
      "tf.Tensor([b'Este tensor string' b'Cadena 2' b'Cadena 3' b'\\xf0\\x9f\\x90\\x8d'], shape=(4,), dtype=string)\n"
     ]
    }
   ],
   "source": [
    "st = tf.constant([\"Este tensor string\",\n",
    "                 \"Cadena 2\",\n",
    "                 \"Cadena 3\",\n",
    "                 \"🐍\"])\n",
    "print(st)"
   ]
  },
  {
   "cell_type": "code",
   "execution_count": 254,
   "id": "4a459127",
   "metadata": {},
   "outputs": [
    {
     "name": "stdout",
     "output_type": "stream",
     "text": [
      "<tf.RaggedTensor [[b'Este', b'tensor', b'string'], [b'Cadena', b'2'], [b'Cadena', b'3'], [b'\\xf0\\x9f\\x90\\x8d']]>\n"
     ]
    }
   ],
   "source": [
    "print(tf.strings.split(st))"
   ]
  },
  {
   "cell_type": "code",
   "execution_count": 260,
   "id": "1945eebe",
   "metadata": {},
   "outputs": [
    {
     "name": "stdout",
     "output_type": "stream",
     "text": [
      "tf.Tensor([b'Este' b'tensor' b'string'], shape=(3,), dtype=string)\n",
      "tf.Tensor([b'Cadena' b'2'], shape=(2,), dtype=string)\n",
      "tf.Tensor([b'Cadena' b'3'], shape=(2,), dtype=string)\n",
      "tf.Tensor([b'\\xf0\\x9f\\x90\\x8d'], shape=(1,), dtype=string)\n"
     ]
    }
   ],
   "source": [
    "st_split = tf.strings.split(st)\n",
    "for i in st_split:\n",
    "    print(i)"
   ]
  },
  {
   "cell_type": "markdown",
   "id": "10d56be8",
   "metadata": {},
   "source": [
    "## string to number"
   ]
  },
  {
   "cell_type": "code",
   "execution_count": 264,
   "id": "9bf5b26f",
   "metadata": {},
   "outputs": [
    {
     "name": "stdout",
     "output_type": "stream",
     "text": [
      "tf.Tensor([ 1.  10.  10.4], shape=(3,), dtype=float32)\n"
     ]
    }
   ],
   "source": [
    "st = tf.constant('1 10 10.4')\n",
    "print(tf.strings.to_number(tf.strings.split(st, ' ')))"
   ]
  },
  {
   "cell_type": "markdown",
   "id": "7c5b1111",
   "metadata": {},
   "source": [
    "# Tensores dispersos. SparseTensor"
   ]
  },
  {
   "cell_type": "code",
   "execution_count": 285,
   "id": "196240e3",
   "metadata": {},
   "outputs": [
    {
     "name": "stdout",
     "output_type": "stream",
     "text": [
      "SparseTensor(indices=tf.Tensor(\n",
      "[[0 1]\n",
      " [1 2]], shape=(2, 2), dtype=int64), values=tf.Tensor([1 2], shape=(2,), dtype=int32), dense_shape=tf.Tensor([3 4], shape=(2,), dtype=int64))\n",
      "\n",
      " tf.Tensor(\n",
      "[[0 1 0 0]\n",
      " [0 0 2 0]\n",
      " [0 0 0 0]], shape=(3, 4), dtype=int32)\n"
     ]
    }
   ],
   "source": [
    "sparse_tensor = tf.sparse.SparseTensor(indices =[[0,1],[1,2]],\n",
    "                                      values = [1,2],\n",
    "                                      dense_shape = [3,4])\n",
    "\n",
    "print(sparse_tensor)\n",
    "print('\\n', tf.sparse.to_dense(sparse_tensor))"
   ]
  }
 ],
 "metadata": {
  "kernelspec": {
   "display_name": "Python 3",
   "language": "python",
   "name": "python3"
  },
  "language_info": {
   "codemirror_mode": {
    "name": "ipython",
    "version": 3
   },
   "file_extension": ".py",
   "mimetype": "text/x-python",
   "name": "python",
   "nbconvert_exporter": "python",
   "pygments_lexer": "ipython3",
   "version": "3.8.8"
  }
 },
 "nbformat": 4,
 "nbformat_minor": 5
}
