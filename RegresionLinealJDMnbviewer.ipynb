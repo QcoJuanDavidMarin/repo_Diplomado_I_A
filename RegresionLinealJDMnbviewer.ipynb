{
 "cells": [
  {
   "cell_type": "markdown",
   "metadata": {},
   "source": [
    "\n",
    "# <span style=\"color:red\"><center>**REGRESIÓN LINAL SIMPLE**</center></span>\n",
    "\n",
    "# <span style=\"color:blue\"><center>*DIPLOMADO DE INTELIGFENCIA ARTIFICIAL Y CONOCIMIENTO PFOFUNDO*</center></span>\n"
   ]
  },
  {
   "cell_type": "markdown",
   "metadata": {},
   "source": [
    "#### <span style=\"color:blue\">Alumno :</span>"
   ]
  },
  {
   "cell_type": "markdown",
   "metadata": {},
   "source": [
    "Juan David Marín A. cc: _1072640307_, quimicojuanda@gmail.com"
   ]
  },
  {
   "cell_type": "markdown",
   "metadata": {},
   "source": [
    "## <span style=\"color:blue\">Contenido</span>"
   ]
  },
  {
   "cell_type": "markdown",
   "metadata": {},
   "source": [
    "1- [Introducción](#Introducción)\n",
    "\n",
    "2- [Breve historia](#Breve-historia)\n",
    "\n",
    "3- [Planteamiento del algortimo](#Planteamiento-del-algortimo)\n",
    "\n",
    "4- [Desarrollar un ejemplo de regresión lineal, con datos reales](#Desarrollar-un-ejemplo-de-regresión-lineal,-con-datos-reales.)\n",
    "\n",
    "5- [Conclusiones](#Conclusiones)\n",
    "\n"
   ]
  },
  {
   "cell_type": "markdown",
   "metadata": {},
   "source": [
    "## <span style=\"color:blue\">Introducción</span>"
   ]
  },
  {
   "cell_type": "markdown",
   "metadata": {},
   "source": [
    "La _regresión lineal_ es uno de los algoritmos de aprendizaje automático más fáciles y populares. Es un método estadístico que se utiliza ampliamente en el análisis predictivo. Con el presente trabajo, se mostrará una breve historia del surgimiento de este algoritmo, como está planteado matemáticamente para poder llevarse a cabo, tendrá una aplicación práctica con el cual se pone a prueba el uso de lenguaje $Python$ en $JupyterLab$, y como con este cuaderno  es posible subirlo a un github personal, y realizar una renderización con nbview y html."
   ]
  },
  {
   "cell_type": "markdown",
   "metadata": {},
   "source": [
    "[Regresar al inicio](#Contenido)"
   ]
  },
  {
   "cell_type": "markdown",
   "metadata": {},
   "source": [
    "## <span style=\"color:blue\">Breve historia</span>"
   ]
  },
  {
   "cell_type": "markdown",
   "metadata": {},
   "source": [
    "Lo primero que debe saber sobre la regresión lineal es cómo se llegó a aplicar el extraño término regresión a modelos como este.\n",
    "Fueron estudiados en profundidad por primera vez por un científico del siglo XIX, Sir Francis Galton.\n",
    "Galton fue un naturalista, antropólogo, astrónomo y estadístico autodidacta, y un personaje de Indiana Jones de la vida real.\n",
    "Era famoso por sus exploraciones, y escribió un libro más vendido sobre cómo sobrevivir en el desierto titulado \"El arte del recorrido: Cambios y artificios Disponible en lugares salvajes,\" y su secuela, \"The Art of Rough viaje: De lo práctico a lo peculiar \".\n",
    "\n",
    "Galton fue un pionero en la aplicación de métodos estadísticos a las mediciones en muchas ramas de la ciencia, y al estudiar los datos sobre los tamaños relativos de los padres y su descendencia en varias especies de plantas y animales, observó el siguiente fenómeno: un mayor que el promedio el padre tiende a producir un hijo más grande que el promedio, pero es probable que el hijo sea menos grande que el padre en términos de su posición relativa dentro de su propia generación. Así, por ejemplo, si el tamaño de la matriz es x desviaciones estándar de la media dentro de su propia generación, entonces usted debe predecir que el tamaño del niño será $rx$ ( r veces x ) desviaciones estándar de la media dentro del conjunto de hijos de esos padres, donde r es un número menor que 1 en magnitud . ( r es lo que se definirá a continuación como la correlación entre el tamaño del padre y el niño). Lo mismo ocurre con prácticamente cualquier medida física (y en el caso de los seres humanos, la mayoría de las medidas de capacidad cognitiva y física) que se puede realizar en padres e hijos.\n",
    "\n",
    "_Aquí está la primera imagen publicada de una línea de regresión que ilustra este efecto, de una conferencia presentada por Galton en 1877_:\n",
    "\n",
    "![](http://people.duke.edu/~rnau/regintro_files/image011.gif)\n",
    "\n",
    "El símbolo **$R$** en este gráfico (cuyo valor es 0.33) denota el coeficiente de pendiente, no la correlación, aunque los dos son iguales si ambas poblaciones tienen la misma desviación estándar, como se mostrará a continuación.\n",
    "Galton denominó a este fenómeno una regresión hacia la mediocridad, que en términos modernos es una regresión a la media. Para un observador ingenuo, esto podría sugerir que las generaciones posteriores exhibirán menos variabilidad, literalmente más mediocridad, que las anteriores, pero ese no es el caso.   Es un fenómeno puramente estadístico. A menos que cada niño tenga exactamente el mismo tamaño que el padre en términos relativos (es decir, a menos que la correlación sea exactamente igual a 1), las predicciones deben regresar a la media independientemente de la biología si se quiere minimizar el error cuadrático medio\n",
    "\n",
    "[Fuente](http://people.duke.edu/~rnau/regintro.htm)\n",
    "\n"
   ]
  },
  {
   "cell_type": "markdown",
   "metadata": {},
   "source": [
    "[Regresar al inicio](#Contenido)"
   ]
  },
  {
   "cell_type": "markdown",
   "metadata": {},
   "source": [
    "## <span style=\"color:blue\">Planteamiento del algortimo</span>\n"
   ]
  },
  {
   "cell_type": "markdown",
   "metadata": {},
   "source": [
    "La regresión lineal simple es un método estadístico que nos permite resumir y estudiar las relaciones entre dos variables continuas :\n",
    "* Una variable, denotada x , se considera la variable predictora , explicativa o independiente.\n",
    "* La otra variable, denotada y , se considera la respuesta , el resultado o la variable dependiente.\n",
    "* La regresión lineal simple recibe su adjetivo \"simple\" porque se refiere al estudio de una sola variable predictora.\n",
    "\n",
    "\n",
    "Puede utilizar la regresión lineal simple cuando desee saber:\n",
    "* Qué tan fuerte es la relación entre dos variables .\n",
    "* El valor de la variable dependiente a un cierto valor de la variable independiente .\n",
    "\n",
    "**Supuestos de regresión lineal simple**\n",
    "\n",
    "La regresión lineal simple es una prueba [paramétrica](https://www.scribbr.com/statistics/statistical-tests/#parametric) , lo que significa que hace ciertas suposiciones sobre los datos com lo son:\n",
    "\n",
    "* Homogeneidad de varianza (homocedasticidad) : el tamaño del error en nuestra predicción no cambia significativamente entre los valores de la variable independiente.\n",
    "* Independencia de las observaciones : las observaciones del conjunto de datos se recopilaron utilizando métodos de muestreo estadísticamente válidos y no existen relaciones ocultas entre las observaciones.\n",
    "* Normalidad: los datos siguen una distribución [normal](https://www.scribbr.com/statistics/normal-distribution/).\n",
    "* La relación entre la variable independiente y dependiente es lineal : la línea de mejor ajuste a través de los puntos de datos es una línea recta.\n",
    "\n",
    "**Fórmula de regresión lineal simple**\n",
    "\n",
    "<span><center>$Y=$ $\\beta_0$ + $\\beta_1$$X$ + $\\epsilon$</center></span>\n",
    "\n",
    "* Donde:\n",
    "\n",
    "$Y$ es el valor predicho de la variable dependiente $y$ para cualquier valor dado de la variable independiente  $x$.\n",
    "\n",
    "$\\beta_0$ es la intersección, el valor predicho de $y$ cuando $x$ es 0.\n",
    "\n",
    "$\\beta_1$ es el coeficiente de regresión: cuánto esperamos que cambie $y$ a medida que aumenta $x$ osea la pendiente.\n",
    "\n",
    "$X$ es la variable independiente, la variable que esperamos influya en $y$.\n",
    "\n",
    "$\\epsilon$ es el error de la estimación, o cuánta variación hay en nuestra estimación del coeficiente de regresión.\n",
    "\n",
    "\n",
    "La regresión lineal encuentra la línea de mejor ajuste a través de sus datos buscando el coeficiente de regresión $\\beta_1$ que minimiza el error total $\\epsilon$ del modelo.\n",
    "\n",
    "\n",
    "[Fuente](https://www.scribbr.com/statistics/simple-linear-regression/)\n",
    "[Regresar al inicio](#Contenido)\n",
    "  \n",
    " \n"
   ]
  },
  {
   "cell_type": "markdown",
   "metadata": {},
   "source": [
    "[Regresar al inicio](#Contenido)"
   ]
  },
  {
   "cell_type": "markdown",
   "metadata": {},
   "source": [
    " \n",
    "## <span style=\"color:blue\">Desarrollar un ejemplo de regresión lineal, con datos reales.</span>"
   ]
  },
  {
   "cell_type": "markdown",
   "metadata": {},
   "source": [
    "El conjunto de datos hace referencia a la medición del valor de Factor de Protección Solar (**$FPS$**) de un producto cosmético en función de la concentración de un activo responsable de este atributo. Se espera que al aumentar la concentración de este compuesto el valor de $FPS$ en también lo haga, de esto modo poder predecir por medio de una regresión lineal futuras fabricaciones"
   ]
  },
  {
   "cell_type": "code",
   "execution_count": 12,
   "metadata": {},
   "outputs": [
    {
     "data": {
      "text/plain": [
       "(24, 2)"
      ]
     },
     "execution_count": 12,
     "metadata": {},
     "output_type": "execute_result"
    }
   ],
   "source": [
    "import numpy as np # para maejo de array\n",
    "import pandas as pd #  para lectura de datos\n",
    "import matplotlib.pyplot as plt # Para graficar\n",
    "\n",
    "# Cargar los datos de entrada\n",
    "data = pd.read_csv('./FPSVsEMH.csv',decimal='.',delimiter=';')\n",
    "\n",
    "# Dimensiones y registros de data set\n",
    "data.shape"
   ]
  },
  {
   "cell_type": "code",
   "execution_count": 13,
   "metadata": {},
   "outputs": [
    {
     "data": {
      "text/html": [
       "<div>\n",
       "<style scoped>\n",
       "    .dataframe tbody tr th:only-of-type {\n",
       "        vertical-align: middle;\n",
       "    }\n",
       "\n",
       "    .dataframe tbody tr th {\n",
       "        vertical-align: top;\n",
       "    }\n",
       "\n",
       "    .dataframe thead th {\n",
       "        text-align: right;\n",
       "    }\n",
       "</style>\n",
       "<table border=\"1\" class=\"dataframe\">\n",
       "  <thead>\n",
       "    <tr style=\"text-align: right;\">\n",
       "      <th></th>\n",
       "      <th>EMH</th>\n",
       "      <th>FPS</th>\n",
       "    </tr>\n",
       "  </thead>\n",
       "  <tbody>\n",
       "    <tr>\n",
       "      <th>0</th>\n",
       "      <td>0.0</td>\n",
       "      <td>2.0</td>\n",
       "    </tr>\n",
       "    <tr>\n",
       "      <th>1</th>\n",
       "      <td>1.0</td>\n",
       "      <td>3.0</td>\n",
       "    </tr>\n",
       "    <tr>\n",
       "      <th>2</th>\n",
       "      <td>1.6</td>\n",
       "      <td>3.5</td>\n",
       "    </tr>\n",
       "    <tr>\n",
       "      <th>3</th>\n",
       "      <td>2.1</td>\n",
       "      <td>8.0</td>\n",
       "    </tr>\n",
       "    <tr>\n",
       "      <th>4</th>\n",
       "      <td>2.9</td>\n",
       "      <td>14.5</td>\n",
       "    </tr>\n",
       "  </tbody>\n",
       "</table>\n",
       "</div>"
      ],
      "text/plain": [
       "   EMH   FPS\n",
       "0  0.0   2.0\n",
       "1  1.0   3.0\n",
       "2  1.6   3.5\n",
       "3  2.1   8.0\n",
       "4  2.9  14.5"
      ]
     },
     "execution_count": 13,
     "metadata": {},
     "output_type": "execute_result"
    }
   ],
   "source": [
    "data.head"
   ]
  },
  {
   "cell_type": "code",
   "execution_count": 24,
   "metadata": {},
   "outputs": [],
   "source": [
    "# Asignar la variable de entrada X y dividirla en conjunto de train y test\n",
    "dataX = data[['EMH']]\n",
    "dataY = data[['FPS']]"
   ]
  },
  {
   "cell_type": "code",
   "execution_count": 29,
   "metadata": {},
   "outputs": [],
   "source": [
    "from sklearn.model_selection import train_test_split\n",
    "X_train, X_test, y_train, y_test = train_test_split(dataX, dataY, test_size = 0.2, random_state = 123)"
   ]
  },
  {
   "cell_type": "code",
   "execution_count": 30,
   "metadata": {},
   "outputs": [
    {
     "data": {
      "text/plain": [
       "(19, 1)"
      ]
     },
     "execution_count": 30,
     "metadata": {},
     "output_type": "execute_result"
    }
   ],
   "source": [
    "# Dimensiones del conjunto de entrenamiento variable X\n",
    "X_train.shape"
   ]
  },
  {
   "cell_type": "code",
   "execution_count": 31,
   "metadata": {},
   "outputs": [
    {
     "data": {
      "text/plain": [
       "(5, 1)"
      ]
     },
     "execution_count": 31,
     "metadata": {},
     "output_type": "execute_result"
    }
   ],
   "source": [
    "# Dimensiones del conjunto de testing variable X\n",
    "X_test.shape"
   ]
  },
  {
   "cell_type": "code",
   "execution_count": 32,
   "metadata": {},
   "outputs": [
    {
     "data": {
      "text/plain": [
       "(19, 1)"
      ]
     },
     "execution_count": 32,
     "metadata": {},
     "output_type": "execute_result"
    }
   ],
   "source": [
    "# Dimensiones del conjunto de entrenamiento variable y\n",
    "y_train.shape"
   ]
  },
  {
   "cell_type": "code",
   "execution_count": 33,
   "metadata": {},
   "outputs": [
    {
     "data": {
      "text/plain": [
       "(5, 1)"
      ]
     },
     "execution_count": 33,
     "metadata": {},
     "output_type": "execute_result"
    }
   ],
   "source": [
    "#  Dimensiones del conjunto de testing variable y\n",
    "y_test.shape"
   ]
  },
  {
   "cell_type": "code",
   "execution_count": 54,
   "metadata": {},
   "outputs": [
    {
     "data": {
      "image/png": "[encoded data removed]",
      "text/plain": [
       "<Figure size 432x288 with 1 Axes>"
      ]
     },
     "metadata": {
      "needs_background": "light"
     },
     "output_type": "display_data"
    }
   ],
   "source": [
    "# Grafico scatter plot para visualizar la correlación entre las variables\n",
    "plt.scatter(X_train, y_train, s= 100, alpha=0.5, c='red')\n",
    "plt.title('FPS Vs EMH')\n",
    "plt.xlabel('% EMH')\n",
    "plt.ylabel('FPS')\n",
    "plt.show()"
   ]
  },
  {
   "cell_type": "code",
   "execution_count": 57,
   "metadata": {},
   "outputs": [
    {
     "data": {
      "text/plain": [
       "LinearRegression()"
      ]
     },
     "execution_count": 57,
     "metadata": {},
     "output_type": "execute_result"
    }
   ],
   "source": [
    "# Crear el modelo de regresión con el comjunto de entrenamiento \n",
    "from sklearn.linear_model import LinearRegression\n",
    "regression = LinearRegression()\n",
    "regression.fit(X_train, y_train)"
   ]
  },
  {
   "cell_type": "code",
   "execution_count": 117,
   "metadata": {},
   "outputs": [
    {
     "name": "stdout",
     "output_type": "stream",
     "text": [
      "[[12.5484954 ]\n",
      " [42.59328198]\n",
      " [45.63579202]\n",
      " [36.12794816]\n",
      " [31.18386936]]\n"
     ]
    }
   ],
   "source": [
    "# Predecir el conjunto de test\n",
    "y_pred = regression.predict(X_test)\n",
    "print(y_pred)"
   ]
  },
  {
   "cell_type": "code",
   "execution_count": 118,
   "metadata": {},
   "outputs": [
    {
     "name": "stdout",
     "output_type": "stream",
     "text": [
      "     FPS\n",
      "5   11.9\n",
      "20  39.8\n",
      "21  43.0\n",
      "18  39.3\n",
      "15  35.6\n"
     ]
    }
   ],
   "source": [
    "print(y_test)"
   ]
  },
  {
   "cell_type": "code",
   "execution_count": 197,
   "metadata": {},
   "outputs": [
    {
     "data": {
      "image/png": "[encoded data removed]",
      "text/plain": [
       "<Figure size 432x288 with 1 Axes>"
      ]
     },
     "metadata": {
      "needs_background": "light"
     },
     "output_type": "display_data"
    }
   ],
   "source": [
    "# Grafica del modelo\n",
    "import statsmodels.api as sm\n",
    "import seaborn as sns\n",
    "\n",
    "sns.regplot(x=data['EMH'], y = data['FPS'], color='r', ci =95)\n",
    "\n",
    "plt.plot(X_train, regression.predict(X_train), c = 'blue')\n",
    "plt.scatter(X_train, y_train,s= 100, alpha=0.5, c='red')\n",
    "plt.title('FPS Vs EMH')\n",
    "plt.xlabel('% EMH')\n",
    "plt.ylabel('FPS')\n",
    "plt.show()"
   ]
  },
  {
   "cell_type": "code",
   "execution_count": 173,
   "metadata": {},
   "outputs": [
    {
     "name": "stdout",
     "output_type": "stream",
     "text": [
      "[[3.80313754]]\n"
     ]
    }
   ],
   "source": [
    "# Ecuacion de la recta\n",
    "m = regression.coef_\n",
    "print(m)"
   ]
  },
  {
   "cell_type": "code",
   "execution_count": 172,
   "metadata": {},
   "outputs": [
    {
     "data": {
      "text/plain": [
       "array([1.13908277])"
      ]
     },
     "execution_count": 172,
     "metadata": {},
     "output_type": "execute_result"
    }
   ],
   "source": [
    "b = regression.intercept_\n",
    "b"
   ]
  },
  {
   "cell_type": "code",
   "execution_count": 194,
   "metadata": {},
   "outputs": [
    {
     "name": "stdout",
     "output_type": "stream",
     "text": [
      "Ecuación del modelo:\n",
      "y =  3.803 *X + 1.139\n"
     ]
    }
   ],
   "source": [
    "print('Ecuación del modelo:')\n",
    "print('y = ', round(regression.coef_[0][0],3),'*X','+', round(regression.intercept_[0],3))"
   ]
  },
  {
   "cell_type": "code",
   "execution_count": 185,
   "metadata": {},
   "outputs": [
    {
     "name": "stdout",
     "output_type": "stream",
     "text": [
      "R^2 del modelo:\n",
      "0.97\n"
     ]
    }
   ],
   "source": [
    "print('R^2 del modelo:')\n",
    "print(round(regression.score(X_train, y_train),2))"
   ]
  },
  {
   "cell_type": "code",
   "execution_count": 184,
   "metadata": {},
   "outputs": [
    {
     "name": "stdout",
     "output_type": "stream",
     "text": [
      "El error cuadratico medio del modelo es: 8.95\n"
     ]
    }
   ],
   "source": [
    "# Calculo del error cuadrático medio\n",
    "from sklearn.metrics import mean_squared_error\n",
    "mse = mean_squared_error(y_test,y_pred)\n",
    "print('El error cuadratico medio del modelo es:', round(mse,2))"
   ]
  },
  {
   "cell_type": "markdown",
   "metadata": {},
   "source": [
    "[Fuente](https://aprendeia.com/algoritmo-regresion-lineal-simple-machine-learning-practica-con-python/)\n",
    "\n",
    "[Regresar al inicio](#Contenido)"
   ]
  },
  {
   "cell_type": "markdown",
   "metadata": {},
   "source": [
    "## <span style=\"color:blue\">Conclusiones</span>"
   ]
  },
  {
   "cell_type": "markdown",
   "metadata": {},
   "source": [
    "El análisis de regresión y correlación lineal constituyen métodos que se emplean para conocer las relaciones y significación entre series de datos. Lo anterior, es de suma importancia para la industria e investigación ya que es aquí en donde se presentan variables de respuesta e independientes las cuales interactúan para originar las características de un proceso en particular y por ende; analizar, predecir valores  y examinar el grado de fuerza con que se relacionan dichas variables.\n",
    "Por otro lado, Al ajustar un modelo de regresión simple es importante disponer disponer de alguna medida que permita medir la bondad del ajuste. Esto se consigue con los coeficientes de correlación. Si el modelo que se ajusta es un modelo de regresión lineal, a R se le denomina coeficiente de correlación y representa el porcentaje de variabilidad de la Y que explica el modelo de regresión."
   ]
  }
 ],
 "metadata": {
  "kernelspec": {
   "display_name": "Python 3",
   "language": "python",
   "name": "python3"
  },
  "language_info": {
   "codemirror_mode": {
    "name": "ipython",
    "version": 3
   },
   "file_extension": ".py",
   "mimetype": "text/x-python",
   "name": "python",
   "nbconvert_exporter": "python",
   "pygments_lexer": "ipython3",
   "version": "3.7.10"
  }
 },
 "nbformat": 4,
 "nbformat_minor": 4
}
