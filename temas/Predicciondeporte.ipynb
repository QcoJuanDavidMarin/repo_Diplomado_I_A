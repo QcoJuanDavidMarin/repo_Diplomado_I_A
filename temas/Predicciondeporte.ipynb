{
 "cells": [
  {
   "cell_type": "code",
   "execution_count": 4,
   "id": "a96d2abb",
   "metadata": {},
   "outputs": [],
   "source": [
    "import numpy as np\n",
    "from keras.preprocessing.image import load_img, img_to_array\n",
    "from keras.models import load_model"
   ]
  },
  {
   "cell_type": "code",
   "execution_count": 8,
   "id": "1627d65d",
   "metadata": {},
   "outputs": [],
   "source": [
    "longitud, altura = 100,100\n",
    "modelo = './modelo/modelo.h5'\n",
    "pesos = './modelo/pesos.h5'"
   ]
  },
  {
   "cell_type": "code",
   "execution_count": 9,
   "id": "d6d6729e",
   "metadata": {},
   "outputs": [],
   "source": [
    "cnn= load_model(modelo)\n",
    "cnn.load_weights(pesos)"
   ]
  },
  {
   "cell_type": "code",
   "execution_count": 12,
   "id": "e4891100",
   "metadata": {},
   "outputs": [],
   "source": [
    "def predict(file):\n",
    "    x = load_img(file, target_size=(longitud,altura))\n",
    "    x = img_to_array(x)\n",
    "    x = np.expand_dims(x,axis=0) # Añadir una dimension extra en la primera dimension\n",
    "    arreglo = cnn.predict(x) ##[[1,0,0]] el algoritmo piensa que es la prediccion correcta \n",
    "    resultado = arreglo[0] # [1,0,0]\n",
    "    respuesta = np.argmax(resultado) # Traerá el indice mas alto del resultado en este caso traera el lugar 0\n",
    "    if respuesta == 0:\n",
    "        print('americano')\n",
    "    elif respuesta == 1:\n",
    "        print('basket')\n",
    "    elif respuesta == 2:\n",
    "        print('beisball')\n",
    "    elif respuesta == 3:\n",
    "        print('boxeo')\n",
    "    elif respuesta ==4:\n",
    "        print('ciclismo')\n",
    "    elif respuesta == 5:\n",
    "        print('f1')\n",
    "    elif respuesta == 6:\n",
    "        print('futbol')\n",
    "    elif respuesta == 7:\n",
    "        print('golf')\n",
    "    elif respuesta == 8:\n",
    "        print('natacion')\n",
    "    elif respuesta == 9:\n",
    "        print('tenis')\n",
    "    return respuesta\n",
    "    "
   ]
  },
  {
   "cell_type": "code",
   "execution_count": 22,
   "id": "68e17910",
   "metadata": {},
   "outputs": [
    {
     "name": "stdout",
     "output_type": "stream",
     "text": [
      "natacion\n"
     ]
    },
    {
     "data": {
      "text/plain": [
       "8"
      ]
     },
     "execution_count": 22,
     "metadata": {},
     "output_type": "execute_result"
    }
   ],
   "source": [
    "predict('natacion_0887.jpg')"
   ]
  },
  {
   "cell_type": "markdown",
   "id": "ee8325e2",
   "metadata": {},
   "source": [
    "[Bibliografia1](https://www.youtube.com/watch?v=EAqb20_4Rdg)\n",
    "\n",
    "[Bibliografia2](https://www.youtube.com/watch?v=FWz0N4FFL0U)\n"
   ]
  }
 ],
 "metadata": {
  "kernelspec": {
   "display_name": "Python 3",
   "language": "python",
   "name": "python3"
  },
  "language_info": {
   "codemirror_mode": {
    "name": "ipython",
    "version": 3
   },
   "file_extension": ".py",
   "mimetype": "text/x-python",
   "name": "python",
   "nbconvert_exporter": "python",
   "pygments_lexer": "ipython3",
   "version": "3.8.8"
  }
 },
 "nbformat": 4,
 "nbformat_minor": 5
}
