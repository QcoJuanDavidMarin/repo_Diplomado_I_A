{
 "cells": [
  {
   "cell_type": "code",
   "execution_count": 1,
   "id": "cd1a9f16",
   "metadata": {},
   "outputs": [],
   "source": [
    "from __future__ import absolute_import, division, print_function\n",
    "\n",
    "import tensorflow as tf\n",
    "import pip\n",
    "import sys # Libreria para movernos entre carpetas\n",
    "import os # Libreria para movernos entre carpetas\n",
    "from tensorflow.keras.preprocessing.image import ImageDataGenerator # Preprocesar las imagenes \n",
    "from tensorflow.keras import optimizers # Optimizador del algoritmo\n",
    "from tensorflow.keras.models import Sequential # Módelo secuencial para hacer la red neuronal\n",
    "from tensorflow.keras.layers import Dropout, Flatten, Dense, Activation # Parametros para la red \n",
    "from tensorflow.keras.layers import Convolution2D, MaxPooling2D # Modificar las capas de entrada de las imagenes a la red\n",
    "from tensorflow.keras import backend as k # cerrar sesiones anteriores \n"
   ]
  },
  {
   "cell_type": "code",
   "execution_count": 2,
   "id": "f0f35c6a",
   "metadata": {},
   "outputs": [],
   "source": [
    "#  Cerrar sesiones anteriores \n",
    "k.clear_session()"
   ]
  },
  {
   "cell_type": "markdown",
   "id": "9ba58b6f",
   "metadata": {},
   "source": [
    "### Creación de variables para cargardatos"
   ]
  },
  {
   "cell_type": "code",
   "execution_count": 3,
   "id": "3f3c5ac3",
   "metadata": {},
   "outputs": [],
   "source": [
    "data_entrenamiento = './data/entrenamiento'\n",
    "data_validacion = './data/validacion'"
   ]
  },
  {
   "cell_type": "markdown",
   "id": "76d52f36",
   "metadata": {},
   "source": [
    "## Parámetros para la red N"
   ]
  },
  {
   "cell_type": "code",
   "execution_count": 4,
   "id": "9be10f55",
   "metadata": {},
   "outputs": [],
   "source": [
    "epocas = 15 # Número de veces de iteración de los datos en el entrenamiento \n",
    "altura = 100 # altura en pixeles de la imagen\n",
    "longitud = 100 # longitus en pixeles de la imagen\n",
    "batch_size = 32 # némero de imagenes a procesar en cada uno de los pasos\n",
    "pasos = 100 # El número de veces que se procesa la informacion en cada una de las epocas \n",
    "pasos_validacion = 100 # las veces que se procesan los datos de validación para ver que tan bien aprende el algoritmo\n",
    "filtrosConv1 = 32 # Número de filtros aplicados a cada convolución, la imagen tendrá una profundidad de 32\n",
    "filtrosConv2 =64 # Número de filtros aplicados a cada convolución, la imagen tendrá una profundidad de 64\n",
    "tamano_filtro1 = (3,3) # tamaño del kernel\n",
    "tamano_filtro2 = (2,2) # tamaño del kernel\n",
    "tamano_pool = (2,2) # tamaño del filtro usado en el maxpooling \n",
    "clases = 10 # son la cantidad de clasificadores\n",
    "lr = 0.0005 # learnig rate que tan grande son los ajustes que hace la red neuronal para acercarse a una solución optima\n"
   ]
  },
  {
   "cell_type": "markdown",
   "id": "f18402cc",
   "metadata": {},
   "source": [
    "# <p style=\"color:rgb(255,90,0);\">__Preprocesamiento de las imagenes__</p>"
   ]
  },
  {
   "cell_type": "code",
   "execution_count": 5,
   "id": "df3c4bbc",
   "metadata": {},
   "outputs": [],
   "source": [
    "entrenamiento_datagen = ImageDataGenerator(\n",
    "    rescale = 1./255, # Reescala los pixeles de la imagen\n",
    "    shear_range = 0.3, # Va a inclinar las imagenes para que el algoritmo aprenda que no siempre la imagen va a estar recta\n",
    "    zoom_range = 0.3, # tomara la imagen y les dara zoom a lagunas \n",
    "    horizontal_flip = True # tomara una imagen y la invertira \n",
    ")\n",
    "\n",
    "# Para las imagenes de validación solo se reescala porque deben ser dadas al algoritmo tal cual estan\n",
    "validacion_datagen = ImageDataGenerator(\n",
    "    rescale = 1./255,\n",
    ")\n"
   ]
  },
  {
   "cell_type": "markdown",
   "id": "b7ab4157",
   "metadata": {},
   "source": [
    "\n",
    "\n",
    "# <p style=\"color:rgb(255,120,0);\">__Usar las imagenes para generar la Red N__</p>"
   ]
  },
  {
   "cell_type": "code",
   "execution_count": 6,
   "id": "09cd593b",
   "metadata": {},
   "outputs": [
    {
     "name": "stdout",
     "output_type": "stream",
     "text": [
      "Found 72105 images belonging to 10 classes.\n"
     ]
    }
   ],
   "source": [
    "imagen_entrenamiento = entrenamiento_datagen.flow_from_directory(\n",
    "    data_entrenamiento,\n",
    "    target_size = (altura, longitud),\n",
    "    batch_size = batch_size,\n",
    "    class_mode = 'categorical'\n",
    ")\n",
    "\n"
   ]
  },
  {
   "cell_type": "code",
   "execution_count": 7,
   "id": "c3ddd7df",
   "metadata": {},
   "outputs": [
    {
     "name": "stdout",
     "output_type": "stream",
     "text": [
      "Found 5000 images belonging to 10 classes.\n"
     ]
    }
   ],
   "source": [
    "imagen_validacion = validacion_datagen.flow_from_directory(\n",
    "    data_validacion,\n",
    "    target_size = (altura, longitud),\n",
    "    batch_size = batch_size,\n",
    "    class_mode = 'categorical'\n",
    "\n",
    ")"
   ]
  },
  {
   "cell_type": "markdown",
   "id": "e4fc7ed3",
   "metadata": {},
   "source": [
    "\n",
    "# <body><p style=\"color:rgb(255,100,50);\">__CREAR LA RED CONVOLUCIONAL__</p><body>"
   ]
  },
  {
   "cell_type": "code",
   "execution_count": 8,
   "id": "15186660",
   "metadata": {},
   "outputs": [],
   "source": [
    "cnn = Sequential()\n",
    "cnn.add(Convolution2D(filtrosConv1, tamano_filtro1, padding =\"same\", input_shape=(longitud, altura, 3), activation='relu'))\n",
    "cnn.add(MaxPooling2D(pool_size=tamano_pool))\n",
    "\n",
    "cnn.add(Convolution2D(filtrosConv2, tamano_filtro2, padding =\"same\"))\n",
    "cnn.add(MaxPooling2D(pool_size=tamano_pool))\n",
    "\n",
    "cnn.add(Flatten())\n",
    "cnn.add(Dense(256, activation='relu'))\n",
    "cnn.add(Dropout(0.5))\n",
    "cnn.add(Dense(clases, activation='softmax'))\n",
    "\n"
   ]
  },
  {
   "cell_type": "markdown",
   "id": "60d093a0",
   "metadata": {},
   "source": [
    "## Compilar el modelo"
   ]
  },
  {
   "cell_type": "code",
   "execution_count": 9,
   "id": "64ceb6f8",
   "metadata": {},
   "outputs": [
    {
     "name": "stdout",
     "output_type": "stream",
     "text": [
      "Model: \"sequential\"\n",
      "_________________________________________________________________\n",
      "Layer (type)                 Output Shape              Param #   \n",
      "=================================================================\n",
      "conv2d (Conv2D)              (None, 100, 100, 32)      896       \n",
      "_________________________________________________________________\n",
      "max_pooling2d (MaxPooling2D) (None, 50, 50, 32)        0         \n",
      "_________________________________________________________________\n",
      "conv2d_1 (Conv2D)            (None, 50, 50, 64)        8256      \n",
      "_________________________________________________________________\n",
      "max_pooling2d_1 (MaxPooling2 (None, 25, 25, 64)        0         \n",
      "_________________________________________________________________\n",
      "flatten (Flatten)            (None, 40000)             0         \n",
      "_________________________________________________________________\n",
      "dense (Dense)                (None, 256)               10240256  \n",
      "_________________________________________________________________\n",
      "dropout (Dropout)            (None, 256)               0         \n",
      "_________________________________________________________________\n",
      "dense_1 (Dense)              (None, 10)                2570      \n",
      "=================================================================\n",
      "Total params: 10,251,978\n",
      "Trainable params: 10,251,978\n",
      "Non-trainable params: 0\n",
      "_________________________________________________________________\n"
     ]
    }
   ],
   "source": [
    "cnn.summary()"
   ]
  },
  {
   "cell_type": "code",
   "execution_count": 10,
   "id": "af87d716",
   "metadata": {},
   "outputs": [
    {
     "data": {
      "image/png": "[encoded data removed]",
      "text/plain": [
       "<IPython.core.display.Image object>"
      ]
     },
     "execution_count": 10,
     "metadata": {},
     "output_type": "execute_result"
    }
   ],
   "source": [
    "from tensorflow.keras.utils import plot_model\n",
    "plot_model(cnn,  show_shapes=True)"
   ]
  },
  {
   "cell_type": "code",
   "execution_count": 11,
   "id": "0278fc13",
   "metadata": {},
   "outputs": [],
   "source": [
    "cnn.compile(loss='categorical_crossentropy',\n",
    "            optimizer=optimizers.Adam(lr=lr),\n",
    "            metrics=['accuracy'])"
   ]
  },
  {
   "cell_type": "markdown",
   "id": "1bdb13dd",
   "metadata": {},
   "source": [
    "# <body><p style=\"color:rgb(255,100,50);\">__ENTRENAR EL ALGORITMO__</p><body>"
   ]
  },
  {
   "cell_type": "markdown",
   "id": "8ae297b2",
   "metadata": {},
   "source": [
    "[Resolver problema ImportError: Could not import PIL.Image. The use of `load_img` requires PIL.](https://github.com/asataniAIR/Image_DL_Tutorial/issues/4)"
   ]
  },
  {
   "cell_type": "code",
   "execution_count": 12,
   "id": "771c6cb6",
   "metadata": {},
   "outputs": [],
   "source": [
    "from PIL import Image"
   ]
  },
  {
   "cell_type": "code",
   "execution_count": 13,
   "id": "b50fc298",
   "metadata": {},
   "outputs": [
    {
     "name": "stdout",
     "output_type": "stream",
     "text": [
      "Epoch 1/15\n",
      "100/100 [==============================] - 66s 656ms/step - loss: 1.4894 - accuracy: 0.4894 - val_loss: 1.1882 - val_accuracy: 0.6150\n",
      "Epoch 2/15\n",
      "100/100 [==============================] - 55s 549ms/step - loss: 0.8589 - accuracy: 0.7163 - val_loss: 0.7614 - val_accuracy: 0.7759\n",
      "Epoch 3/15\n",
      "100/100 [==============================] - 60s 603ms/step - loss: 0.6771 - accuracy: 0.7759 - val_loss: 0.6341 - val_accuracy: 0.7819\n",
      "Epoch 4/15\n",
      "100/100 [==============================] - 60s 597ms/step - loss: 0.5754 - accuracy: 0.8066 - val_loss: 0.5709 - val_accuracy: 0.7947\n",
      "Epoch 5/15\n",
      "100/100 [==============================] - 81s 814ms/step - loss: 0.5164 - accuracy: 0.8269 - val_loss: 0.5058 - val_accuracy: 0.8081\n",
      "Epoch 6/15\n",
      "100/100 [==============================] - 68s 678ms/step - loss: 0.4380 - accuracy: 0.8516 - val_loss: 0.5176 - val_accuracy: 0.8319\n",
      "Epoch 7/15\n",
      "100/100 [==============================] - 62s 616ms/step - loss: 0.3976 - accuracy: 0.8737 - val_loss: 0.5263 - val_accuracy: 0.8394\n",
      "Epoch 8/15\n",
      "100/100 [==============================] - 68s 679ms/step - loss: 0.3997 - accuracy: 0.8675 - val_loss: 0.6264 - val_accuracy: 0.8188\n",
      "Epoch 9/15\n",
      "100/100 [==============================] - 74s 739ms/step - loss: 0.3685 - accuracy: 0.8797 - val_loss: 0.5119 - val_accuracy: 0.8397\n",
      "Epoch 10/15\n",
      "100/100 [==============================] - 73s 733ms/step - loss: 0.3390 - accuracy: 0.8869 - val_loss: 0.6245 - val_accuracy: 0.8281\n",
      "Epoch 11/15\n",
      "100/100 [==============================] - 59s 595ms/step - loss: 0.3381 - accuracy: 0.8947 - val_loss: 0.8156 - val_accuracy: 0.7794\n",
      "Epoch 12/15\n",
      "100/100 [==============================] - 60s 602ms/step - loss: 0.3215 - accuracy: 0.8975 - val_loss: 0.4950 - val_accuracy: 0.8259\n",
      "Epoch 13/15\n",
      "100/100 [==============================] - 73s 731ms/step - loss: 0.3201 - accuracy: 0.8969 - val_loss: 0.5190 - val_accuracy: 0.8400\n",
      "Epoch 14/15\n",
      "100/100 [==============================] - 77s 770ms/step - loss: 0.2794 - accuracy: 0.9106 - val_loss: 0.8365 - val_accuracy: 0.7966\n",
      "Epoch 15/15\n",
      "100/100 [==============================] - 75s 754ms/step - loss: 0.2785 - accuracy: 0.9087 - val_loss: 0.4912 - val_accuracy: 0.8178\n"
     ]
    }
   ],
   "source": [
    "\n",
    "history = cnn.fit(\n",
    "    imagen_entrenamiento,\n",
    "    steps_per_epoch=pasos,\n",
    "    epochs=epocas,\n",
    "    validation_data=imagen_validacion,\n",
    "    validation_steps=pasos_validacion)"
   ]
  },
  {
   "cell_type": "markdown",
   "id": "301594e3",
   "metadata": {},
   "source": [
    "# <body><p style=\"color:rgb(255,100,100);\">__Guardar el modelo__</p><body>"
   ]
  },
  {
   "cell_type": "code",
   "execution_count": 15,
   "id": "ced8868a",
   "metadata": {},
   "outputs": [],
   "source": [
    "dir = './modelo'\n",
    "\n",
    "if not os.path.exists(dir):\n",
    "    os.mkdir(dir)\n",
    "cnn.save('./modelo/modelo.h5')\n",
    "cnn.save_weights('./modelo/pesos.h5')"
   ]
  },
  {
   "cell_type": "code",
   "execution_count": null,
   "id": "7269ed85",
   "metadata": {},
   "outputs": [],
   "source": []
  },
  {
   "cell_type": "code",
   "execution_count": null,
   "id": "d7e779fc",
   "metadata": {},
   "outputs": [],
   "source": []
  }
 ],
 "metadata": {
  "kernelspec": {
   "display_name": "Python 3",
   "language": "python",
   "name": "python3"
  },
  "language_info": {
   "codemirror_mode": {
    "name": "ipython",
    "version": 3
   },
   "file_extension": ".py",
   "mimetype": "text/x-python",
   "name": "python",
   "nbconvert_exporter": "python",
   "pygments_lexer": "ipython3",
   "version": "3.8.8"
  }
 },
 "nbformat": 4,
 "nbformat_minor": 5
}
